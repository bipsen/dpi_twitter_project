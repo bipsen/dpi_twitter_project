{
 "cells": [
  {
   "cell_type": "code",
   "execution_count": 149,
   "metadata": {
    "scrolled": true
   },
   "outputs": [
    {
     "data": {
      "text/html": [
       "<div>\n",
       "<style scoped>\n",
       "    .dataframe tbody tr th:only-of-type {\n",
       "        vertical-align: middle;\n",
       "    }\n",
       "\n",
       "    .dataframe tbody tr th {\n",
       "        vertical-align: top;\n",
       "    }\n",
       "\n",
       "    .dataframe thead th {\n",
       "        text-align: right;\n",
       "    }\n",
       "</style>\n",
       "<table border=\"1\" class=\"dataframe\">\n",
       "  <thead>\n",
       "    <tr style=\"text-align: right;\">\n",
       "      <th></th>\n",
       "      <th>id</th>\n",
       "      <th>time</th>\n",
       "      <th>created_at</th>\n",
       "      <th>from_user_name</th>\n",
       "      <th>text</th>\n",
       "      <th>filter_level</th>\n",
       "      <th>possibly_sensitive</th>\n",
       "      <th>withheld_copyright</th>\n",
       "      <th>withheld_scope</th>\n",
       "      <th>truncated</th>\n",
       "      <th>...</th>\n",
       "      <th>from_user_utcoffset</th>\n",
       "      <th>from_user_timezone</th>\n",
       "      <th>from_user_lang</th>\n",
       "      <th>from_user_tweetcount</th>\n",
       "      <th>from_user_followercount</th>\n",
       "      <th>from_user_friendcount</th>\n",
       "      <th>from_user_favourites_count</th>\n",
       "      <th>from_user_listed</th>\n",
       "      <th>from_user_withheld_scope</th>\n",
       "      <th>from_user_created_at</th>\n",
       "    </tr>\n",
       "  </thead>\n",
       "  <tbody>\n",
       "    <tr>\n",
       "      <th>0</th>\n",
       "      <td>834362853406732291</td>\n",
       "      <td>1487762580</td>\n",
       "      <td>2017-02-22 11:23:00</td>\n",
       "      <td>ScienceEurope</td>\n",
       "      <td>Break out groups discussing training on #Resea...</td>\n",
       "      <td>low</td>\n",
       "      <td>0.0</td>\n",
       "      <td>NaN</td>\n",
       "      <td>NaN</td>\n",
       "      <td>0</td>\n",
       "      <td>...</td>\n",
       "      <td>3600.0</td>\n",
       "      <td>Amsterdam</td>\n",
       "      <td>en</td>\n",
       "      <td>499</td>\n",
       "      <td>1929</td>\n",
       "      <td>683</td>\n",
       "      <td>598</td>\n",
       "      <td>89</td>\n",
       "      <td>NaN</td>\n",
       "      <td>2014-02-17 15:00:02</td>\n",
       "    </tr>\n",
       "    <tr>\n",
       "      <th>1</th>\n",
       "      <td>834365870243737601</td>\n",
       "      <td>1487763299</td>\n",
       "      <td>2017-02-22 11:34:59</td>\n",
       "      <td>FWFOpenAccess</td>\n",
       "      <td>RT @StefEurope: N Föger discusses how her orga...</td>\n",
       "      <td>low</td>\n",
       "      <td>0.0</td>\n",
       "      <td>NaN</td>\n",
       "      <td>NaN</td>\n",
       "      <td>0</td>\n",
       "      <td>...</td>\n",
       "      <td>7200.0</td>\n",
       "      <td>Athens</td>\n",
       "      <td>de</td>\n",
       "      <td>6632</td>\n",
       "      <td>1945</td>\n",
       "      <td>533</td>\n",
       "      <td>539</td>\n",
       "      <td>131</td>\n",
       "      <td>NaN</td>\n",
       "      <td>2012-01-27 17:33:53</td>\n",
       "    </tr>\n",
       "    <tr>\n",
       "      <th>2</th>\n",
       "      <td>834371022539337728</td>\n",
       "      <td>1487764528</td>\n",
       "      <td>2017-02-22 11:55:28</td>\n",
       "      <td>FWF_at</td>\n",
       "      <td>RT @StefEurope: N Föger discusses how her orga...</td>\n",
       "      <td>low</td>\n",
       "      <td>0.0</td>\n",
       "      <td>NaN</td>\n",
       "      <td>NaN</td>\n",
       "      <td>0</td>\n",
       "      <td>...</td>\n",
       "      <td>3600.0</td>\n",
       "      <td>Belgrade</td>\n",
       "      <td>de</td>\n",
       "      <td>1971</td>\n",
       "      <td>865</td>\n",
       "      <td>295</td>\n",
       "      <td>440</td>\n",
       "      <td>35</td>\n",
       "      <td>NaN</td>\n",
       "      <td>2015-03-06 13:28:10</td>\n",
       "    </tr>\n",
       "    <tr>\n",
       "      <th>3</th>\n",
       "      <td>834371965951541249</td>\n",
       "      <td>1487764753</td>\n",
       "      <td>2017-02-22 11:59:13</td>\n",
       "      <td>didgoossens</td>\n",
       "      <td>RT @eMaud: Marc Schiltz Sec Gen @FnrLux openin...</td>\n",
       "      <td>low</td>\n",
       "      <td>0.0</td>\n",
       "      <td>NaN</td>\n",
       "      <td>NaN</td>\n",
       "      <td>0</td>\n",
       "      <td>...</td>\n",
       "      <td>3600.0</td>\n",
       "      <td>Vienna</td>\n",
       "      <td>en</td>\n",
       "      <td>1523</td>\n",
       "      <td>617</td>\n",
       "      <td>593</td>\n",
       "      <td>633</td>\n",
       "      <td>49</td>\n",
       "      <td>NaN</td>\n",
       "      <td>2009-08-05 08:47:58</td>\n",
       "    </tr>\n",
       "    <tr>\n",
       "      <th>4</th>\n",
       "      <td>834384433184636931</td>\n",
       "      <td>1487767725</td>\n",
       "      <td>2017-02-22 12:48:45</td>\n",
       "      <td>dolivauribe</td>\n",
       "      <td>Training in #ResearchIntegrity should be prior...</td>\n",
       "      <td>low</td>\n",
       "      <td>0.0</td>\n",
       "      <td>NaN</td>\n",
       "      <td>NaN</td>\n",
       "      <td>0</td>\n",
       "      <td>...</td>\n",
       "      <td>NaN</td>\n",
       "      <td>NaN</td>\n",
       "      <td>en</td>\n",
       "      <td>1472</td>\n",
       "      <td>212</td>\n",
       "      <td>81</td>\n",
       "      <td>270</td>\n",
       "      <td>53</td>\n",
       "      <td>NaN</td>\n",
       "      <td>2011-09-11 12:26:13</td>\n",
       "    </tr>\n",
       "  </tbody>\n",
       "</table>\n",
       "<p>5 rows × 36 columns</p>\n",
       "</div>"
      ],
      "text/plain": [
       "                   id        time           created_at from_user_name  \\\n",
       "0  834362853406732291  1487762580  2017-02-22 11:23:00  ScienceEurope   \n",
       "1  834365870243737601  1487763299  2017-02-22 11:34:59  FWFOpenAccess   \n",
       "2  834371022539337728  1487764528  2017-02-22 11:55:28         FWF_at   \n",
       "3  834371965951541249  1487764753  2017-02-22 11:59:13    didgoossens   \n",
       "4  834384433184636931  1487767725  2017-02-22 12:48:45    dolivauribe   \n",
       "\n",
       "                                                text filter_level  \\\n",
       "0  Break out groups discussing training on #Resea...          low   \n",
       "1  RT @StefEurope: N Föger discusses how her orga...          low   \n",
       "2  RT @StefEurope: N Föger discusses how her orga...          low   \n",
       "3  RT @eMaud: Marc Schiltz Sec Gen @FnrLux openin...          low   \n",
       "4  Training in #ResearchIntegrity should be prior...          low   \n",
       "\n",
       "   possibly_sensitive  withheld_copyright  withheld_scope  truncated  ...  \\\n",
       "0                 0.0                 NaN             NaN          0  ...   \n",
       "1                 0.0                 NaN             NaN          0  ...   \n",
       "2                 0.0                 NaN             NaN          0  ...   \n",
       "3                 0.0                 NaN             NaN          0  ...   \n",
       "4                 0.0                 NaN             NaN          0  ...   \n",
       "\n",
       "   from_user_utcoffset  from_user_timezone from_user_lang  \\\n",
       "0               3600.0           Amsterdam             en   \n",
       "1               7200.0              Athens             de   \n",
       "2               3600.0            Belgrade             de   \n",
       "3               3600.0              Vienna             en   \n",
       "4                  NaN                 NaN             en   \n",
       "\n",
       "  from_user_tweetcount  from_user_followercount  from_user_friendcount  \\\n",
       "0                  499                     1929                    683   \n",
       "1                 6632                     1945                    533   \n",
       "2                 1971                      865                    295   \n",
       "3                 1523                      617                    593   \n",
       "4                 1472                      212                     81   \n",
       "\n",
       "  from_user_favourites_count from_user_listed  from_user_withheld_scope  \\\n",
       "0                        598               89                       NaN   \n",
       "1                        539              131                       NaN   \n",
       "2                        440               35                       NaN   \n",
       "3                        633               49                       NaN   \n",
       "4                        270               53                       NaN   \n",
       "\n",
       "   from_user_created_at  \n",
       "0   2014-02-17 15:00:02  \n",
       "1   2012-01-27 17:33:53  \n",
       "2   2015-03-06 13:28:10  \n",
       "3   2009-08-05 08:47:58  \n",
       "4   2011-09-11 12:26:13  \n",
       "\n",
       "[5 rows x 36 columns]"
      ]
     },
     "execution_count": 149,
     "metadata": {},
     "output_type": "execute_result"
    }
   ],
   "source": [
    "import pandas as pd\n",
    "\n",
    "df = pd.read_csv('full_export.csv')\n",
    "\n",
    "df.head()"
   ]
  },
  {
   "cell_type": "code",
   "execution_count": 150,
   "metadata": {},
   "outputs": [
    {
     "data": {
      "text/plain": [
       "['id',\n",
       " 'time',\n",
       " 'created_at',\n",
       " 'from_user_name',\n",
       " 'text',\n",
       " 'filter_level',\n",
       " 'possibly_sensitive',\n",
       " 'withheld_copyright',\n",
       " 'withheld_scope',\n",
       " 'truncated',\n",
       " 'retweet_count',\n",
       " 'favorite_count',\n",
       " 'lang',\n",
       " 'to_user_name',\n",
       " 'in_reply_to_status_id',\n",
       " 'quoted_status_id',\n",
       " 'source',\n",
       " 'location',\n",
       " 'lat',\n",
       " 'lng',\n",
       " 'from_user_id',\n",
       " 'from_user_realname',\n",
       " 'from_user_verified',\n",
       " 'from_user_description',\n",
       " 'from_user_url',\n",
       " 'from_user_profile_image_url',\n",
       " 'from_user_utcoffset',\n",
       " 'from_user_timezone',\n",
       " 'from_user_lang',\n",
       " 'from_user_tweetcount',\n",
       " 'from_user_followercount',\n",
       " 'from_user_friendcount',\n",
       " 'from_user_favourites_count',\n",
       " 'from_user_listed',\n",
       " 'from_user_withheld_scope',\n",
       " 'from_user_created_at']"
      ]
     },
     "execution_count": 150,
     "metadata": {},
     "output_type": "execute_result"
    }
   ],
   "source": [
    "list(df)"
   ]
  },
  {
   "cell_type": "code",
   "execution_count": 151,
   "metadata": {},
   "outputs": [
    {
     "data": {
      "text/plain": [
       "4000"
      ]
     },
     "execution_count": 151,
     "metadata": {},
     "output_type": "execute_result"
    }
   ],
   "source": [
    "len(df) # Number of rows "
   ]
  },
  {
   "cell_type": "code",
   "execution_count": 177,
   "metadata": {},
   "outputs": [
    {
     "data": {
      "text/plain": [
       "<matplotlib.axes._subplots.AxesSubplot at 0x7febe8254860>"
      ]
     },
     "execution_count": 177,
     "metadata": {},
     "output_type": "execute_result"
    },
    {
     "data": {
      "image/png": "[encoded data removed]",
      "text/plain": [
       "<Figure size 432x288 with 1 Axes>"
      ]
     },
     "metadata": {},
     "output_type": "display_data"
    }
   ],
   "source": [
    "import seaborn as sns\n",
    "sns.set()\n",
    "\n",
    "df['created_at'] = pd.to_datetime(df['created_at'])\n",
    "\n",
    "df['created_at'].dt.floor('10D').value_counts().sort_index().plot(kind='line', title='Tweets over time')"
   ]
  },
  {
   "cell_type": "code",
   "execution_count": 179,
   "metadata": {},
   "outputs": [
    {
     "data": {
      "text/plain": [
       "<matplotlib.axes._subplots.AxesSubplot at 0x7febeb3de3c8>"
      ]
     },
     "execution_count": 179,
     "metadata": {},
     "output_type": "execute_result"
    },
    {
     "data": {
      "image/png": "[encoded data removed]",
      "text/plain": [
       "<Figure size 432x288 with 1 Axes>"
      ]
     },
     "metadata": {},
     "output_type": "display_data"
    }
   ],
   "source": [
    "most_active = df.groupby('from_user_name').count().id.sort_values(ascending=False)[:10].index\n",
    "active_df = df[df['from_user_name'].isin(most_active)]\n",
    "active_df = active_df[['from_user_name', 'location']]\n",
    "active_df['counts'] = active_df.groupby(['from_user_name'])['from_user_name'].transform('count')\n",
    "active_df.drop_duplicates(inplace=True)\n",
    "active_df.set_index('from_user_name', inplace=True)\n",
    "active_df.sort_values(by='counts', ascending=False, inplace=True)\n",
    "active_df.plot(kind='bar', title='Most active users')"
   ]
  },
  {
   "cell_type": "code",
   "execution_count": 180,
   "metadata": {},
   "outputs": [
    {
     "data": {
      "text/html": [
       "<div>\n",
       "<style scoped>\n",
       "    .dataframe tbody tr th:only-of-type {\n",
       "        vertical-align: middle;\n",
       "    }\n",
       "\n",
       "    .dataframe tbody tr th {\n",
       "        vertical-align: top;\n",
       "    }\n",
       "\n",
       "    .dataframe thead th {\n",
       "        text-align: right;\n",
       "    }\n",
       "</style>\n",
       "<table border=\"1\" class=\"dataframe\">\n",
       "  <thead>\n",
       "    <tr style=\"text-align: right;\">\n",
       "      <th></th>\n",
       "      <th>location</th>\n",
       "      <th>counts</th>\n",
       "    </tr>\n",
       "    <tr>\n",
       "      <th>from_user_name</th>\n",
       "      <th></th>\n",
       "      <th></th>\n",
       "    </tr>\n",
       "  </thead>\n",
       "  <tbody>\n",
       "    <tr>\n",
       "      <th>UKRIO</th>\n",
       "      <td>London CR0 0XT</td>\n",
       "      <td>297</td>\n",
       "    </tr>\n",
       "    <tr>\n",
       "      <th>HHS_ORI</th>\n",
       "      <td>Rockville, MD</td>\n",
       "      <td>82</td>\n",
       "    </tr>\n",
       "    <tr>\n",
       "      <th>ALLEA_academies</th>\n",
       "      <td>Berlin</td>\n",
       "      <td>81</td>\n",
       "    </tr>\n",
       "    <tr>\n",
       "      <th>ThomasArrison</th>\n",
       "      <td>Washington, DC</td>\n",
       "      <td>77</td>\n",
       "    </tr>\n",
       "    <tr>\n",
       "      <th>mattjhodgkinson</th>\n",
       "      <td>Cambridge, UK</td>\n",
       "      <td>62</td>\n",
       "    </tr>\n",
       "    <tr>\n",
       "      <th>E_Integrity_EN</th>\n",
       "      <td>Worldwide</td>\n",
       "      <td>61</td>\n",
       "    </tr>\n",
       "    <tr>\n",
       "      <th>C0PE</th>\n",
       "      <td>11000 members worldwide</td>\n",
       "      <td>49</td>\n",
       "    </tr>\n",
       "    <tr>\n",
       "      <th>C0PE</th>\n",
       "      <td>12,000 members worldwide</td>\n",
       "      <td>49</td>\n",
       "    </tr>\n",
       "    <tr>\n",
       "      <th>WCRI2019</th>\n",
       "      <td>Hong Kong</td>\n",
       "      <td>41</td>\n",
       "    </tr>\n",
       "    <tr>\n",
       "      <th>irenehames</th>\n",
       "      <td>York, UK</td>\n",
       "      <td>38</td>\n",
       "    </tr>\n",
       "    <tr>\n",
       "      <th>malcomaxx</th>\n",
       "      <td>NaN</td>\n",
       "      <td>36</td>\n",
       "    </tr>\n",
       "  </tbody>\n",
       "</table>\n",
       "</div>"
      ],
      "text/plain": [
       "                                 location  counts\n",
       "from_user_name                                   \n",
       "UKRIO                      London CR0 0XT     297\n",
       "HHS_ORI                     Rockville, MD      82\n",
       "ALLEA_academies                    Berlin      81\n",
       "ThomasArrison              Washington, DC      77\n",
       "mattjhodgkinson             Cambridge, UK      62\n",
       "E_Integrity_EN                  Worldwide      61\n",
       "C0PE              11000 members worldwide      49\n",
       "C0PE             12,000 members worldwide      49\n",
       "WCRI2019                        Hong Kong      41\n",
       "irenehames                       York, UK      38\n",
       "malcomaxx                             NaN      36"
      ]
     },
     "execution_count": 180,
     "metadata": {},
     "output_type": "execute_result"
    }
   ],
   "source": [
    "active_df # Most active users locations"
   ]
  },
  {
   "cell_type": "code",
   "execution_count": 181,
   "metadata": {},
   "outputs": [
    {
     "data": {
      "text/plain": [
       "<matplotlib.axes._subplots.AxesSubplot at 0x7febeb51b8d0>"
      ]
     },
     "execution_count": 181,
     "metadata": {},
     "output_type": "execute_result"
    },
    {
     "data": {
      "image/png": "[encoded data removed]",
      "text/plain": [
       "<Figure size 432x288 with 1 Axes>"
      ]
     },
     "metadata": {},
     "output_type": "display_data"
    }
   ],
   "source": [
    "df.groupby('location').count()['id'].sort_values(ascending=False)[:10].plot(kind='bar', title='Most active locations')"
   ]
  },
  {
   "cell_type": "code",
   "execution_count": null,
   "metadata": {},
   "outputs": [],
   "source": []
  }
 ],
 "metadata": {
  "kernelspec": {
   "display_name": "Python 3",
   "language": "python",
   "name": "python3"
  },
  "language_info": {
   "codemirror_mode": {
    "name": "ipython",
    "version": 3
   },
   "file_extension": ".py",
   "mimetype": "text/x-python",
   "name": "python",
   "nbconvert_exporter": "python",
   "pygments_lexer": "ipython3",
   "version": "3.7.3"
  }
 },
 "nbformat": 4,
 "nbformat_minor": 2
}
